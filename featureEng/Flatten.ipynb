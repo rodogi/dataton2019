{
 "cells": [
  {
   "cell_type": "code",
   "execution_count": 2,
   "metadata": {},
   "outputs": [],
   "source": [
    "library(tidyverse)\n",
    "library(stringi)\n",
    "library(jsonlite)\n",
    "library(data.table)"
   ]
  },
  {
   "cell_type": "markdown",
   "metadata": {},
   "source": [
    "# Contrataciones Publicas"
   ]
  },
  {
   "cell_type": "code",
   "execution_count": 2,
   "metadata": {},
   "outputs": [],
   "source": [
    "cp <- fromJSON(txt = \"S6/cp.json\", flatten = TRUE)"
   ]
  },
  {
   "cell_type": "code",
   "execution_count": 36,
   "metadata": {},
   "outputs": [],
   "source": [
    "cp <- my_buyers %>% select(which(sapply(cp, typeof)!=\"list\"))"
   ]
  },
  {
   "cell_type": "code",
   "execution_count": 38,
   "metadata": {},
   "outputs": [
    {
     "data": {
      "text/html": [
       "<ol class=list-inline>\n",
       "\t<li>'ocid'</li>\n",
       "\t<li>'_id.$oid'</li>\n",
       "\t<li>'buyer.name'</li>\n",
       "\t<li>'buyer.id'</li>\n",
       "\t<li>'tender.title'</li>\n",
       "\t<li>'tender.procurementMethod'</li>\n",
       "</ol>\n"
      ],
      "text/latex": [
       "\\begin{enumerate*}\n",
       "\\item 'ocid'\n",
       "\\item '\\_id.\\$oid'\n",
       "\\item 'buyer.name'\n",
       "\\item 'buyer.id'\n",
       "\\item 'tender.title'\n",
       "\\item 'tender.procurementMethod'\n",
       "\\end{enumerate*}\n"
      ],
      "text/markdown": [
       "1. 'ocid'\n",
       "2. '_id.$oid'\n",
       "3. 'buyer.name'\n",
       "4. 'buyer.id'\n",
       "5. 'tender.title'\n",
       "6. 'tender.procurementMethod'\n",
       "\n",
       "\n"
      ],
      "text/plain": [
       "[1] \"ocid\"                     \"_id.$oid\"                \n",
       "[3] \"buyer.name\"               \"buyer.id\"                \n",
       "[5] \"tender.title\"             \"tender.procurementMethod\""
      ]
     },
     "metadata": {},
     "output_type": "display_data"
    }
   ],
   "source": [
    "colnames(cp)"
   ]
  },
  {
   "cell_type": "code",
   "execution_count": 37,
   "metadata": {},
   "outputs": [],
   "source": [
    "cp <- mutate(.data = cp, \n",
    "                    buyer.name = str_to_upper(stringi::stri_trans_general(buyer.name, \"Latin-ASCII\")\n",
    "                                                   )\n",
    "                    )\n",
    "cp <- mutate(.data = cp, \n",
    "                    tender.title = str_to_upper(stringi::stri_trans_general(tender.title, \"Latin-ASCII\")\n",
    "                                                   )\n",
    "                    )"
   ]
  },
  {
   "cell_type": "code",
   "execution_count": 39,
   "metadata": {},
   "outputs": [],
   "source": [
    "write_delim(x = cp[1:6], path = \"cp.csv\", delim = ',', col_names = TRUE)"
   ]
  },
  {
   "cell_type": "markdown",
   "metadata": {},
   "source": [
    "# Compradores"
   ]
  },
  {
   "cell_type": "code",
   "execution_count": 3,
   "metadata": {},
   "outputs": [],
   "source": [
    "df <- fromJSON(txt = \"S6/buyers.json\", flatten = TRUE)"
   ]
  },
  {
   "cell_type": "code",
   "execution_count": 5,
   "metadata": {},
   "outputs": [],
   "source": [
    "df <- df %>% select(which(sapply(df, typeof)!=\"list\"))"
   ]
  },
  {
   "cell_type": "code",
   "execution_count": 7,
   "metadata": {},
   "outputs": [
    {
     "data": {
      "text/html": [
       "<ol class=list-inline>\n",
       "\t<li>'name'</li>\n",
       "\t<li>'id'</li>\n",
       "</ol>\n"
      ],
      "text/latex": [
       "\\begin{enumerate*}\n",
       "\\item 'name'\n",
       "\\item 'id'\n",
       "\\end{enumerate*}\n"
      ],
      "text/markdown": [
       "1. 'name'\n",
       "2. 'id'\n",
       "\n",
       "\n"
      ],
      "text/plain": [
       "[1] \"name\" \"id\"  "
      ]
     },
     "metadata": {},
     "output_type": "display_data"
    }
   ],
   "source": [
    "colnames(df)"
   ]
  },
  {
   "cell_type": "code",
   "execution_count": 8,
   "metadata": {},
   "outputs": [],
   "source": [
    "df <- mutate(.data = df, \n",
    "                   name = str_to_upper(stringi::stri_trans_general(name, \"Latin-ASCII\")\n",
    "                                                   )\n",
    "                    )"
   ]
  },
  {
   "cell_type": "code",
   "execution_count": 9,
   "metadata": {},
   "outputs": [],
   "source": [
    "write_delim(x = df, path = \"buyers.csv\", delim = ',', col_names = TRUE)"
   ]
  },
  {
   "cell_type": "markdown",
   "metadata": {},
   "source": [
    "# Tenderers"
   ]
  },
  {
   "cell_type": "code",
   "execution_count": 10,
   "metadata": {},
   "outputs": [],
   "source": [
    "df <- fromJSON(txt = \"S6/tenderers_suppliers.json\", flatten = TRUE)"
   ]
  },
  {
   "cell_type": "code",
   "execution_count": 11,
   "metadata": {},
   "outputs": [],
   "source": [
    "df <- df %>% select(which(sapply(df, typeof)!=\"list\"))"
   ]
  },
  {
   "cell_type": "code",
   "execution_count": 12,
   "metadata": {},
   "outputs": [
    {
     "data": {
      "text/html": [
       "<ol class=list-inline>\n",
       "\t<li>'name'</li>\n",
       "\t<li>'id'</li>\n",
       "\t<li>'_id.$oid'</li>\n",
       "\t<li>'identifier.id'</li>\n",
       "\t<li>'identifier.legalName'</li>\n",
       "\t<li>'identifier.scheme'</li>\n",
       "\t<li>'identifier.uri'</li>\n",
       "\t<li>'address.streetAddress'</li>\n",
       "\t<li>'address.locality'</li>\n",
       "\t<li>'address.region'</li>\n",
       "\t<li>'address.postalCode'</li>\n",
       "\t<li>'address.countryName'</li>\n",
       "\t<li>'contactPoint.email'</li>\n",
       "\t<li>'contactPoint.telephone'</li>\n",
       "\t<li>'contactPoint.name'</li>\n",
       "\t<li>'contactPoint.faxNumber'</li>\n",
       "</ol>\n"
      ],
      "text/latex": [
       "\\begin{enumerate*}\n",
       "\\item 'name'\n",
       "\\item 'id'\n",
       "\\item '\\_id.\\$oid'\n",
       "\\item 'identifier.id'\n",
       "\\item 'identifier.legalName'\n",
       "\\item 'identifier.scheme'\n",
       "\\item 'identifier.uri'\n",
       "\\item 'address.streetAddress'\n",
       "\\item 'address.locality'\n",
       "\\item 'address.region'\n",
       "\\item 'address.postalCode'\n",
       "\\item 'address.countryName'\n",
       "\\item 'contactPoint.email'\n",
       "\\item 'contactPoint.telephone'\n",
       "\\item 'contactPoint.name'\n",
       "\\item 'contactPoint.faxNumber'\n",
       "\\end{enumerate*}\n"
      ],
      "text/markdown": [
       "1. 'name'\n",
       "2. 'id'\n",
       "3. '_id.$oid'\n",
       "4. 'identifier.id'\n",
       "5. 'identifier.legalName'\n",
       "6. 'identifier.scheme'\n",
       "7. 'identifier.uri'\n",
       "8. 'address.streetAddress'\n",
       "9. 'address.locality'\n",
       "10. 'address.region'\n",
       "11. 'address.postalCode'\n",
       "12. 'address.countryName'\n",
       "13. 'contactPoint.email'\n",
       "14. 'contactPoint.telephone'\n",
       "15. 'contactPoint.name'\n",
       "16. 'contactPoint.faxNumber'\n",
       "\n",
       "\n"
      ],
      "text/plain": [
       " [1] \"name\"                   \"id\"                     \"_id.$oid\"              \n",
       " [4] \"identifier.id\"          \"identifier.legalName\"   \"identifier.scheme\"     \n",
       " [7] \"identifier.uri\"         \"address.streetAddress\"  \"address.locality\"      \n",
       "[10] \"address.region\"         \"address.postalCode\"     \"address.countryName\"   \n",
       "[13] \"contactPoint.email\"     \"contactPoint.telephone\" \"contactPoint.name\"     \n",
       "[16] \"contactPoint.faxNumber\""
      ]
     },
     "metadata": {},
     "output_type": "display_data"
    }
   ],
   "source": [
    "colnames(df)"
   ]
  },
  {
   "cell_type": "code",
   "execution_count": 14,
   "metadata": {},
   "outputs": [],
   "source": [
    "df <- mutate(.data = df, \n",
    "                   name = str_to_upper(stringi::stri_trans_general(name, \"Latin-ASCII\")\n",
    "                                                   )\n",
    "                    )"
   ]
  },
  {
   "cell_type": "code",
   "execution_count": 16,
   "metadata": {},
   "outputs": [],
   "source": [
    "df <- mutate(.data = df, \n",
    "                   identifier.legalName = str_to_upper(stringi::stri_trans_general(identifier.legalName, \"Latin-ASCII\")\n",
    "                                                   )\n",
    "                    )"
   ]
  },
  {
   "cell_type": "code",
   "execution_count": 18,
   "metadata": {},
   "outputs": [],
   "source": [
    "df <- mutate(.data = df, \n",
    "                   address.streetAddress = str_to_upper(stringi::stri_trans_general(address.streetAddress, \"Latin-ASCII\")\n",
    "                                                   )\n",
    "                    )"
   ]
  },
  {
   "cell_type": "code",
   "execution_count": 21,
   "metadata": {},
   "outputs": [],
   "source": [
    "df <- mutate(.data = df, \n",
    "                  address.locality = str_to_upper(stringi::stri_trans_general(address.locality, \"Latin-ASCII\")\n",
    "                                                   )\n",
    "                    )"
   ]
  },
  {
   "cell_type": "code",
   "execution_count": 23,
   "metadata": {},
   "outputs": [],
   "source": [
    "df <- mutate(.data = df, \n",
    "                  contactPoint.name = str_to_upper(stringi::stri_trans_general(contactPoint.name, \"Latin-ASCII\")\n",
    "                                                   )\n",
    "                    )"
   ]
  },
  {
   "cell_type": "code",
   "execution_count": 27,
   "metadata": {},
   "outputs": [],
   "source": [
    "df <- mutate(.data = df, \n",
    "                  address.countryName = str_to_upper(stringi::stri_trans_general(address.countryName, \"Latin-ASCII\")\n",
    "                                                   )\n",
    "                    )"
   ]
  },
  {
   "cell_type": "code",
   "execution_count": 28,
   "metadata": {},
   "outputs": [],
   "source": [
    "write_delim(x = df, path = \"tenderers_suppliers.csv\", delim = ',', col_names = TRUE)"
   ]
  },
  {
   "cell_type": "code",
   "execution_count": null,
   "metadata": {},
   "outputs": [],
   "source": []
  }
 ],
 "metadata": {
  "kernelspec": {
   "display_name": "R",
   "language": "R",
   "name": "ir"
  },
  "language_info": {
   "codemirror_mode": "r",
   "file_extension": ".r",
   "mimetype": "text/x-r-source",
   "name": "R",
   "pygments_lexer": "r",
   "version": "3.6.1"
  }
 },
 "nbformat": 4,
 "nbformat_minor": 4
}
