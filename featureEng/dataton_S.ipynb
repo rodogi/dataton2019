{
 "cells": [
  {
   "cell_type": "markdown",
   "metadata": {},
   "source": [
    "# DATATON 2019"
   ]
  },
  {
   "cell_type": "markdown",
   "metadata": {},
   "source": [
    "## Import Data"
   ]
  },
  {
   "cell_type": "code",
   "execution_count": 1,
   "metadata": {},
   "outputs": [],
   "source": [
    "# Librerias\n",
    "import numpy as np\n",
    "import pandas as pd\n",
    "import networkx as nx"
   ]
  },
  {
   "cell_type": "code",
   "execution_count": 6,
   "metadata": {},
   "outputs": [],
   "source": [
    "# Datos extraidos del PND y preprocesados en R\n",
    "B = pd.read_csv(\"./Data/buyers.csv\")\n",
    "TS = pd.read_csv(\"./Data/tenderers_suppliers.csv\")\n",
    "CP = pd.read_csv(\"./Data/cp.csv\")\n",
    "\n",
    "# Nodos sancionados\n",
    "san = np.genfromtxt(\"./Data/nodos_san.txt\", dtype=\"unicode\", delimiter=\"\\n\")\n",
    "nodos_san = N[N[\"id\"].isin(san)]['nodo'].values"
   ]
  },
  {
   "cell_type": "code",
   "execution_count": 6,
   "metadata": {},
   "outputs": [],
   "source": [
    "# Red completa multicapa\n",
    "G = nx.read_graphml(\"base_S6_hacky.graphml\")\n",
    "\n",
    "# Red dirigida monocapa\n",
    "g = nx.Graph(G)\n",
    "\n",
    "# Listas de propiedades de nodos y aristas\n",
    "N = pd.read_csv(\"./Grafo/tabla_nodos.psv\",delimiter='|')\n",
    "E = pd.read_csv(\"./Grafo/tabla_edges.csv\")"
   ]
  },
  {
   "cell_type": "code",
   "execution_count": 7,
   "metadata": {},
   "outputs": [],
   "source": [
    "# Tipos de nodos:\n",
    "#    Buyer, CP, Party\n",
    "\n",
    "rols = N['labels'].unique()\n",
    "N['Rol']=0\n",
    "N.loc[ N['labels']==rols[0],'Rol' ]=0\n",
    "N.loc[ N['labels']==rols[1],'Rol' ]=1\n",
    "N.loc[ N['labels']==rols[2],'Rol' ]=2"
   ]
  },
  {
   "cell_type": "code",
   "execution_count": 8,
   "metadata": {},
   "outputs": [],
   "source": [
    "# Tipos de arista:\n",
    "#    Dependencia - Contrato\n",
    "#    Contrato - Supplier/Tender\n",
    "\n",
    "roles = E['roles'].unique()\n",
    "E['Role']=0\n",
    "E.loc[ E['roles']==roles[0],'Role' ]=0\n",
    "E.loc[ E['roles']==roles[1],'Role' ]=1\n",
    "E.loc[ E['roles']==roles[2],'Role' ]=2"
   ]
  },
  {
   "cell_type": "code",
   "execution_count": 9,
   "metadata": {},
   "outputs": [],
   "source": [
    "# Aristas de suppliers/tenders\n",
    "\n",
    "supp = E[E['Role']!=0].source.unique()"
   ]
  },
  {
   "cell_type": "code",
   "execution_count": 28,
   "metadata": {},
   "outputs": [],
   "source": [
    "# Proyeccion de red de suppliers \n",
    "\n",
    "from networkx.algorithms import bipartite\n",
    "\n",
    "Gs = bipartite.weighted_projected_graph(g,supp)"
   ]
  },
  {
   "cell_type": "code",
   "execution_count": 30,
   "metadata": {},
   "outputs": [],
   "source": [
    "# Funciones auxiliares para construir DataFrames\n",
    "\n",
    "def get_attr(x, attr=\"labels\"):\n",
    "    \"\"\"Regresa el valor de attr o None.\n",
    "    \n",
    "    x: dict, diccionario con los atributos en llave.\n",
    "    attr: str, nombre del atributo\n",
    "    \"\"\"\n",
    "    \n",
    "    if attr in x.keys():\n",
    "        return x[attr]\n",
    "    else:\n",
    "        return None\n",
    "\n",
    "def n_list(x):\n",
    "    \"\"\"Regresa en número de elementos en x\n",
    "    \n",
    "    x: str, string representando a una lista\n",
    "    \"\"\"\n",
    "    \n",
    "    if x is None:\n",
    "        return None\n",
    "    else:\n",
    "        x = eval(x)\n",
    "        return(len(x))"
   ]
  },
  {
   "cell_type": "code",
   "execution_count": 125,
   "metadata": {},
   "outputs": [],
   "source": [
    "# Cargar dataframe\n",
    "df_nodes = pd.DataFrame(Gs.nodes(data=True), columns=[\"nodo\", \"attrs\"])\n",
    "\n",
    "# Enlistar todos los atributos en el dataframe\n",
    "key_nodes = np.array([list(row[\"attrs\"].keys()) for i, row in df_nodes.iterrows()])\n",
    "\n",
    "key_nodes = [x for y in key_nodes for x in y]\n",
    "\n",
    "key_nodes = set(key_nodes)"
   ]
  },
  {
   "cell_type": "code",
   "execution_count": 126,
   "metadata": {},
   "outputs": [
    {
     "name": "stdout",
     "output_type": "stream",
     "text": [
      "Los atributos disponibles son:\n",
      " {'labels', 'name', 'id'}\n"
     ]
    }
   ],
   "source": [
    "print(f\"Los atributos disponibles son:\\n {key_nodes}\")"
   ]
  },
  {
   "cell_type": "code",
   "execution_count": 127,
   "metadata": {},
   "outputs": [],
   "source": [
    "# Crear una columna por atributo disponible y\n",
    "# al final borrar la columna de atributos\n",
    "for attr in key_nodes:\n",
    "    df_nodes[attr] = df_nodes[\"attrs\"].apply(get_attr, attr=attr)\n",
    "\n",
    "df_nodes = df_nodes.drop(\"attrs\", axis=1)"
   ]
  },
  {
   "cell_type": "code",
   "execution_count": 71,
   "metadata": {},
   "outputs": [],
   "source": [
    "# Calculamos grados de nodos\n",
    "\n",
    "degrees = pd.DataFrame(list(Gs.degree( df_nodes.nodo.unique())))\n",
    "degrees.to_csv(\"degrees_supp.csv\", index=False)"
   ]
  },
  {
   "cell_type": "code",
   "execution_count": 131,
   "metadata": {},
   "outputs": [],
   "source": [
    "# Dataframe con caracteristicas de nodos y grados\n",
    "\n",
    "df_node_d = pd.merge(df_nodes,degrees,how=\"left\",left_on=\"nodo\",right_on=0).drop(columns=0)\n",
    "\n",
    "df_node_d = df_node_d.rename(columns={1:'degree'})"
   ]
  },
  {
   "cell_type": "markdown",
   "metadata": {},
   "source": [
    "### Write out"
   ]
  },
  {
   "cell_type": "code",
   "execution_count": 132,
   "metadata": {},
   "outputs": [],
   "source": [
    "# Guardar la tabla\n",
    "df_nodes.to_csv(\"nodos_supp.csv\", index=False)"
   ]
  },
  {
   "cell_type": "markdown",
   "metadata": {},
   "source": [
    "# Aristas\n",
    "\n",
    "Se crea una tabla con, para cada arista, los valores de cada atributo."
   ]
  },
  {
   "cell_type": "code",
   "execution_count": 37,
   "metadata": {},
   "outputs": [],
   "source": [
    "# Cargar dataframe\n",
    "df_edges = pd.DataFrame(Gs.edges(data=True), columns=[\"source\", \"target\", \"attrs\"])\n",
    "# Enlistar todos los atributos  de las aristas en el dataframe\n",
    "key_edges = np.array([list(row[\"attrs\"].keys()) for i, row in df_edges.iterrows()])\n",
    "key_edges = [x for y in key_edges for x in y]\n",
    "key_edges = set(key_edges)"
   ]
  },
  {
   "cell_type": "code",
   "execution_count": 40,
   "metadata": {},
   "outputs": [],
   "source": [
    "for attr in key_edges:\n",
    "    df_edges[attr] = df_edges[\"attrs\"].apply(get_attr, attr=attr)\n",
    "\n",
    "df_edges = df_edges.drop(\"attrs\", axis=1)"
   ]
  },
  {
   "cell_type": "markdown",
   "metadata": {},
   "source": [
    "# Red inducida de los sancionados en la proyeccion"
   ]
  },
  {
   "cell_type": "code",
   "execution_count": 96,
   "metadata": {},
   "outputs": [],
   "source": [
    "# Red inducida por los nodos sancionados\n",
    "G_san = Gs.subgraph(nodos_san)"
   ]
  },
  {
   "cell_type": "code",
   "execution_count": 308,
   "metadata": {},
   "outputs": [],
   "source": [
    "# Funcion para medir features de red\n",
    "\n",
    "def measure(G):\n",
    "    \"\"\"\n",
    "    Medimos:\n",
    "    -Numero de componentes conexos\n",
    "    -Tamaño de maximo componente conexo\n",
    "    -Grado promedio, desviacion y maximo\n",
    "    -Coeficiente de clustering\n",
    "    -Grado de vecinos promedio\n",
    "    -Conectividad promedio\n",
    "    -Coeficiente de asortatividad\n",
    "    \"\"\"\n",
    "    comps = [ c for c in nx.connected_components(G)]\n",
    "    CC = len(comps)\n",
    "    CC_max = max([ len(c) for c in comps])\n",
    "\n",
    "    deg = [d for v, d in G.degree]\n",
    "\n",
    "    deg_mean = np.mean(deg)\n",
    "    deg_std = np.std(deg)\n",
    "    deg_max = max(deg)\n",
    "\n",
    "    clust = nx.average_clustering(G)\n",
    "    neig = np.mean(list(nx.average_neighbor_degree(G).values()))\n",
    "    conn = np.mean(list(nx.average_degree_connectivity(G).values()))\n",
    "\n",
    "    assort = nx.assortativity.degree_assortativity_coefficient(G)\n",
    "    \n",
    "    return( [CC,CC_max,deg_mean,deg_std,deg_max,clust,neig,conn,assort] )"
   ]
  },
  {
   "cell_type": "code",
   "execution_count": 246,
   "metadata": {},
   "outputs": [],
   "source": [
    "# Extraccion del componente mas grande de sancionados\n",
    "\n",
    "comps=[ g for g in nx.connected_component_subgraphs(G_san)]\n",
    "pd.DataFrame(comps[0].nodes).to_csv(\"component.csv\", index=False)"
   ]
  },
  {
   "cell_type": "markdown",
   "metadata": {},
   "source": [
    "# Comparacion con modelos nulos"
   ]
  },
  {
   "cell_type": "code",
   "execution_count": null,
   "metadata": {},
   "outputs": [],
   "source": [
    "# Escogemos nodos aleatoriamente, extremos la red inducida\n",
    "# y medimos los mismos parametros que la red de sancionados\n",
    "\n",
    "nodos_totales = list(Gs.nodes)\n",
    "\n",
    "n = len(G_san)\n",
    "\n",
    "temp = measure(G_san)\n",
    "temp.append(n)\n",
    "data = [temp]\n",
    "for i in range(100):\n",
    "    nodos_temp = np.random.choice(nodos_totales,n)\n",
    "    G_temp = Gs.subgraph(nodos_temp)\n",
    "    temp = measure(G_temp)\n",
    "    temp.append(sum([ nod in list(G_san.nodes) for nod in list(G_temp.nodes)]))\n",
    "    data.append(temp )"
   ]
  },
  {
   "cell_type": "markdown",
   "metadata": {},
   "source": [
    "### Write out"
   ]
  },
  {
   "cell_type": "code",
   "execution_count": 334,
   "metadata": {},
   "outputs": [],
   "source": [
    "params=[\"CC\",\"CC_max\",\"deg_mean\",\"deg_std\",\"deg_max\",\"clust\",\"neig\",\"conn\",\"assort\",\"#\"]\n",
    "df_ran = pd.DataFrame(data, columns=[\"CC\",\"CC_max\",\"deg_mean\",\"deg_std\",\"deg_max\",\"clust\",\"neig\",\"conn\",\"assort\",\"#\"])\n",
    "df_ran = df_ran.sort_values(by=['#'],ascending=False)\n",
    "\n",
    "df_ran.to_csv(\"nulls.csv\", index=False)"
   ]
  },
  {
   "cell_type": "code",
   "execution_count": 338,
   "metadata": {},
   "outputs": [],
   "source": [
    "# Medimos los z-scores contra modelos nulos\n",
    "\n",
    "data = []\n",
    "for i in range(len(params)):\n",
    "    data.append( list((df_ran[params[i]]-np.mean(df_ran[params[i]]))/np.std(df_ran[params[i]])) )\n",
    "\n",
    "df_z = pd.DataFrame(data)\n",
    "df_z = df_z.T\n",
    "df_z.columns=[\"CC\",\"CC_max\",\"deg_mean\",\"deg_std\",\"deg_max\",\"clust\",\"neig\",\"conn\",\"assort\",\"#\"]\n",
    "\n",
    "df_z.to_csv(\"z_nulls.csv\", index=False)"
   ]
  },
  {
   "cell_type": "code",
   "execution_count": null,
   "metadata": {},
   "outputs": [],
   "source": []
  }
 ],
 "metadata": {
  "kernelspec": {
   "display_name": "Python 3",
   "language": "python",
   "name": "python3"
  },
  "language_info": {
   "codemirror_mode": {
    "name": "ipython",
    "version": 3
   },
   "file_extension": ".py",
   "mimetype": "text/x-python",
   "name": "python",
   "nbconvert_exporter": "python",
   "pygments_lexer": "ipython3",
   "version": "3.7.4"
  }
 },
 "nbformat": 4,
 "nbformat_minor": 4
}
