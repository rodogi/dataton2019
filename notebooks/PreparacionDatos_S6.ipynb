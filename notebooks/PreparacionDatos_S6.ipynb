{
 "cells": [
  {
   "cell_type": "markdown",
   "metadata": {},
   "source": [
    "# Red S6"
   ]
  },
  {
   "cell_type": "code",
   "execution_count": 1,
   "metadata": {},
   "outputs": [],
   "source": [
    "import networkx as nx\n",
    "import numpy as np\n",
    "import pandas as pd"
   ]
  },
  {
   "cell_type": "markdown",
   "metadata": {},
   "source": [
    "# Funciones\n",
    "\n",
    "Principalmente para transformar la columna original de atributos `attrs` a un conjunto de columnas con los atributos de cada nodo."
   ]
  },
  {
   "cell_type": "markdown",
   "metadata": {},
   "source": [
    "## Variables globales"
   ]
  },
  {
   "cell_type": "code",
   "execution_count": 91,
   "metadata": {},
   "outputs": [],
   "source": [
    "# Path al archivo de la red original\n",
    "archivo = \"../data_local/base_S6_hacky.graphml\"\n",
    "\n",
    "nodos_out = \"../tabla_nodos.csv\"\n",
    "edges_out = \"../tabla_edges.csv\""
   ]
  },
  {
   "cell_type": "code",
   "execution_count": 50,
   "metadata": {},
   "outputs": [],
   "source": [
    "def get_attr(x, attr=\"labels\"):\n",
    "    \"\"\"Regresa el valor de attr o None.\n",
    "    \n",
    "    x: dict, diccionario con los atributos en llave.\n",
    "    attr: str, nombre del atributo\n",
    "    \"\"\"\n",
    "    \n",
    "    if attr in x.keys():\n",
    "        return x[attr]\n",
    "    else:\n",
    "        return None"
   ]
  },
  {
   "cell_type": "code",
   "execution_count": 86,
   "metadata": {},
   "outputs": [],
   "source": [
    "def n_list(x):\n",
    "    \"\"\"Regresa en número de elementos en x\n",
    "    \n",
    "    x: str, string representando a una lista\n",
    "    \"\"\"\n",
    "    \n",
    "    if x is None:\n",
    "        return None\n",
    "    else:\n",
    "        x = eval(x)\n",
    "        return(len(x))"
   ]
  },
  {
   "cell_type": "code",
   "execution_count": 3,
   "metadata": {},
   "outputs": [
    {
     "name": "stderr",
     "output_type": "stream",
     "text": [
      "/home/x/.local/lib/python3.6/site-packages/networkx/readwrite/graphml.py:899: UserWarning: No key type for id name. Using string\n",
      "  warnings.warn(\"No key type for id %s. Using string\" % attr_id)\n",
      "/home/x/.local/lib/python3.6/site-packages/networkx/readwrite/graphml.py:899: UserWarning: No key type for id procurementMethod. Using string\n",
      "  warnings.warn(\"No key type for id %s. Using string\" % attr_id)\n",
      "/home/x/.local/lib/python3.6/site-packages/networkx/readwrite/graphml.py:899: UserWarning: No key type for id labels. Using string\n",
      "  warnings.warn(\"No key type for id %s. Using string\" % attr_id)\n",
      "/home/x/.local/lib/python3.6/site-packages/networkx/readwrite/graphml.py:899: UserWarning: No key type for id id. Using string\n",
      "  warnings.warn(\"No key type for id %s. Using string\" % attr_id)\n",
      "/home/x/.local/lib/python3.6/site-packages/networkx/readwrite/graphml.py:899: UserWarning: No key type for id title. Using string\n",
      "  warnings.warn(\"No key type for id %s. Using string\" % attr_id)\n",
      "/home/x/.local/lib/python3.6/site-packages/networkx/readwrite/graphml.py:899: UserWarning: No key type for id ocid. Using string\n",
      "  warnings.warn(\"No key type for id %s. Using string\" % attr_id)\n",
      "/home/x/.local/lib/python3.6/site-packages/networkx/readwrite/graphml.py:899: UserWarning: No key type for id contracts. Using string\n",
      "  warnings.warn(\"No key type for id %s. Using string\" % attr_id)\n",
      "/home/x/.local/lib/python3.6/site-packages/networkx/readwrite/graphml.py:899: UserWarning: No key type for id totalAmount. Using string\n",
      "  warnings.warn(\"No key type for id %s. Using string\" % attr_id)\n",
      "/home/x/.local/lib/python3.6/site-packages/networkx/readwrite/graphml.py:899: UserWarning: No key type for id roles. Using string\n",
      "  warnings.warn(\"No key type for id %s. Using string\" % attr_id)\n",
      "/home/x/.local/lib/python3.6/site-packages/networkx/readwrite/graphml.py:899: UserWarning: No key type for id label. Using string\n",
      "  warnings.warn(\"No key type for id %s. Using string\" % attr_id)\n"
     ]
    }
   ],
   "source": [
    "# Leer red original en formato graphml\n",
    "G = nx.read_graphml(archivo)"
   ]
  },
  {
   "cell_type": "markdown",
   "metadata": {},
   "source": [
    "## Pandas\n",
    "\n",
    "Usaremos pandas para clear la tabla con los nodos y sus atributos.\n",
    "\n",
    "Básicamente pasamos los nodos en la red original `G` junto con sus atributos a un `pandas.DataFrame` y hacemos las transformaciones ahí mismo."
   ]
  },
  {
   "cell_type": "code",
   "execution_count": 73,
   "metadata": {},
   "outputs": [],
   "source": [
    "# Cargar dataframe\n",
    "df_nodes = pd.DataFrame(G.nodes(data=True), columns=[\"nodo\", \"attrs\"])\n",
    "# Enlistar todos los atributos en el dataframe\n",
    "key_nodes = np.array([list(row[\"attrs\"].keys()) for i, row in df_nodes.iterrows()])\n",
    "\n",
    "key_nodes = [x for y in key_nodes for x in y]\n",
    "\n",
    "key_nodes = set(key_nodes)"
   ]
  },
  {
   "cell_type": "code",
   "execution_count": 74,
   "metadata": {},
   "outputs": [
    {
     "name": "stdout",
     "output_type": "stream",
     "text": [
      "Los atributos disponibles son:\n",
      " {'ocid', 'title', 'name', 'contracts', 'totalAmount', 'procurementMethod', 'labels', 'id'}\n"
     ]
    }
   ],
   "source": [
    "print(f\"Los atributos disponibles son:\\n {key_nodes}\")"
   ]
  },
  {
   "cell_type": "code",
   "execution_count": 48,
   "metadata": {},
   "outputs": [],
   "source": [
    "# Crear una columna por atributo disponible y\n",
    "# al final borrar la columna de atributos\n",
    "for attr in key_nodes:\n",
    "    df_nodes[attr] = df_nodes[\"attrs\"].apply(get_attr, attr=attr)\n",
    "\n",
    "df_nodes = df_nodes.drop(\"attrs\", axis=1)"
   ]
  },
  {
   "cell_type": "markdown",
   "metadata": {},
   "source": [
    "### Transformaciones\n",
    "\n",
    "Crear una variable con el número de subcontratos para cada contrato"
   ]
  },
  {
   "cell_type": "code",
   "execution_count": 63,
   "metadata": {},
   "outputs": [],
   "source": [
    "df_nodes[\"nsubcontracts\"] = df_nodes[\"contracts\"].apply(n_list)"
   ]
  },
  {
   "cell_type": "markdown",
   "metadata": {},
   "source": [
    "### Write out"
   ]
  },
  {
   "cell_type": "code",
   "execution_count": 70,
   "metadata": {},
   "outputs": [],
   "source": [
    "# Guardar la tabla\n",
    "df_nodes.to_csv(nodos_out, index=False)"
   ]
  },
  {
   "cell_type": "markdown",
   "metadata": {},
   "source": [
    "# Aristas\n",
    "\n",
    "Se crea una tabla con, para cada arista, los valores de cada atributo."
   ]
  },
  {
   "cell_type": "code",
   "execution_count": 77,
   "metadata": {},
   "outputs": [
    {
     "data": {
      "text/html": [
       "<div>\n",
       "<style scoped>\n",
       "    .dataframe tbody tr th:only-of-type {\n",
       "        vertical-align: middle;\n",
       "    }\n",
       "\n",
       "    .dataframe tbody tr th {\n",
       "        vertical-align: top;\n",
       "    }\n",
       "\n",
       "    .dataframe thead th {\n",
       "        text-align: right;\n",
       "    }\n",
       "</style>\n",
       "<table border=\"1\" class=\"dataframe\">\n",
       "  <thead>\n",
       "    <tr style=\"text-align: right;\">\n",
       "      <th></th>\n",
       "      <th>0</th>\n",
       "      <th>1</th>\n",
       "      <th>2</th>\n",
       "    </tr>\n",
       "  </thead>\n",
       "  <tbody>\n",
       "    <tr>\n",
       "      <th>0</th>\n",
       "      <td>n0</td>\n",
       "      <td>n95307</td>\n",
       "      <td>{'label': 'BOUGHT', 'roles': '[\"buyer\"]'}</td>\n",
       "    </tr>\n",
       "    <tr>\n",
       "      <th>1</th>\n",
       "      <td>n0</td>\n",
       "      <td>n95453</td>\n",
       "      <td>{'label': 'BOUGHT', 'roles': '[\"buyer\"]'}</td>\n",
       "    </tr>\n",
       "    <tr>\n",
       "      <th>2</th>\n",
       "      <td>n0</td>\n",
       "      <td>n95460</td>\n",
       "      <td>{'label': 'BOUGHT', 'roles': '[\"buyer\"]'}</td>\n",
       "    </tr>\n",
       "    <tr>\n",
       "      <th>3</th>\n",
       "      <td>n0</td>\n",
       "      <td>n95461</td>\n",
       "      <td>{'label': 'BOUGHT', 'roles': '[\"buyer\"]'}</td>\n",
       "    </tr>\n",
       "    <tr>\n",
       "      <th>4</th>\n",
       "      <td>n0</td>\n",
       "      <td>n95462</td>\n",
       "      <td>{'label': 'BOUGHT', 'roles': '[\"buyer\"]'}</td>\n",
       "    </tr>\n",
       "    <tr>\n",
       "      <th>...</th>\n",
       "      <td>...</td>\n",
       "      <td>...</td>\n",
       "      <td>...</td>\n",
       "    </tr>\n",
       "    <tr>\n",
       "      <th>999145</th>\n",
       "      <td>n95303</td>\n",
       "      <td>n460060</td>\n",
       "      <td>{'label': 'PARTICIPATED', 'roles': '[\"tenderer...</td>\n",
       "    </tr>\n",
       "    <tr>\n",
       "      <th>999146</th>\n",
       "      <td>n95304</td>\n",
       "      <td>n460099</td>\n",
       "      <td>{'label': 'PARTICIPATED', 'roles': '[\"tenderer...</td>\n",
       "    </tr>\n",
       "    <tr>\n",
       "      <th>999147</th>\n",
       "      <td>n95304</td>\n",
       "      <td>n460136</td>\n",
       "      <td>{'label': 'PARTICIPATED', 'roles': '[\"tenderer...</td>\n",
       "    </tr>\n",
       "    <tr>\n",
       "      <th>999148</th>\n",
       "      <td>n95305</td>\n",
       "      <td>n460141</td>\n",
       "      <td>{'label': 'PARTICIPATED', 'roles': '[\"tenderer...</td>\n",
       "    </tr>\n",
       "    <tr>\n",
       "      <th>999149</th>\n",
       "      <td>n95306</td>\n",
       "      <td>n460150</td>\n",
       "      <td>{'label': 'PARTICIPATED', 'roles': '[\"tenderer...</td>\n",
       "    </tr>\n",
       "  </tbody>\n",
       "</table>\n",
       "<p>999150 rows × 3 columns</p>\n",
       "</div>"
      ],
      "text/plain": [
       "             0        1                                                  2\n",
       "0           n0   n95307          {'label': 'BOUGHT', 'roles': '[\"buyer\"]'}\n",
       "1           n0   n95453          {'label': 'BOUGHT', 'roles': '[\"buyer\"]'}\n",
       "2           n0   n95460          {'label': 'BOUGHT', 'roles': '[\"buyer\"]'}\n",
       "3           n0   n95461          {'label': 'BOUGHT', 'roles': '[\"buyer\"]'}\n",
       "4           n0   n95462          {'label': 'BOUGHT', 'roles': '[\"buyer\"]'}\n",
       "...        ...      ...                                                ...\n",
       "999145  n95303  n460060  {'label': 'PARTICIPATED', 'roles': '[\"tenderer...\n",
       "999146  n95304  n460099  {'label': 'PARTICIPATED', 'roles': '[\"tenderer...\n",
       "999147  n95304  n460136  {'label': 'PARTICIPATED', 'roles': '[\"tenderer...\n",
       "999148  n95305  n460141  {'label': 'PARTICIPATED', 'roles': '[\"tenderer...\n",
       "999149  n95306  n460150  {'label': 'PARTICIPATED', 'roles': '[\"tenderer...\n",
       "\n",
       "[999150 rows x 3 columns]"
      ]
     },
     "execution_count": 77,
     "metadata": {},
     "output_type": "execute_result"
    }
   ],
   "source": [
    "pd.DataFrame(G.edges(data=True))"
   ]
  },
  {
   "cell_type": "code",
   "execution_count": 78,
   "metadata": {},
   "outputs": [],
   "source": [
    "# Cargar dataframe\n",
    "df_edges = pd.DataFrame(G.edges(data=True), columns=[\"source\", \"target\", \"attrs\"])\n",
    "# Enlistar todos los atributos  de las aristas en el dataframe\n",
    "key_edges = np.array([list(row[\"attrs\"].keys()) for i, row in df_edges.iterrows()])\n",
    "key_edges = [x for y in key_edges for x in y]\n",
    "key_edges = set(key_edges)"
   ]
  },
  {
   "cell_type": "code",
   "execution_count": 79,
   "metadata": {},
   "outputs": [
    {
     "data": {
      "text/html": [
       "<div>\n",
       "<style scoped>\n",
       "    .dataframe tbody tr th:only-of-type {\n",
       "        vertical-align: middle;\n",
       "    }\n",
       "\n",
       "    .dataframe tbody tr th {\n",
       "        vertical-align: top;\n",
       "    }\n",
       "\n",
       "    .dataframe thead th {\n",
       "        text-align: right;\n",
       "    }\n",
       "</style>\n",
       "<table border=\"1\" class=\"dataframe\">\n",
       "  <thead>\n",
       "    <tr style=\"text-align: right;\">\n",
       "      <th></th>\n",
       "      <th>source</th>\n",
       "      <th>target</th>\n",
       "      <th>attrs</th>\n",
       "    </tr>\n",
       "  </thead>\n",
       "  <tbody>\n",
       "    <tr>\n",
       "      <th>0</th>\n",
       "      <td>n0</td>\n",
       "      <td>n95307</td>\n",
       "      <td>{'label': 'BOUGHT', 'roles': '[\"buyer\"]'}</td>\n",
       "    </tr>\n",
       "    <tr>\n",
       "      <th>1</th>\n",
       "      <td>n0</td>\n",
       "      <td>n95453</td>\n",
       "      <td>{'label': 'BOUGHT', 'roles': '[\"buyer\"]'}</td>\n",
       "    </tr>\n",
       "    <tr>\n",
       "      <th>2</th>\n",
       "      <td>n0</td>\n",
       "      <td>n95460</td>\n",
       "      <td>{'label': 'BOUGHT', 'roles': '[\"buyer\"]'}</td>\n",
       "    </tr>\n",
       "    <tr>\n",
       "      <th>3</th>\n",
       "      <td>n0</td>\n",
       "      <td>n95461</td>\n",
       "      <td>{'label': 'BOUGHT', 'roles': '[\"buyer\"]'}</td>\n",
       "    </tr>\n",
       "    <tr>\n",
       "      <th>4</th>\n",
       "      <td>n0</td>\n",
       "      <td>n95462</td>\n",
       "      <td>{'label': 'BOUGHT', 'roles': '[\"buyer\"]'}</td>\n",
       "    </tr>\n",
       "    <tr>\n",
       "      <th>...</th>\n",
       "      <td>...</td>\n",
       "      <td>...</td>\n",
       "      <td>...</td>\n",
       "    </tr>\n",
       "    <tr>\n",
       "      <th>999145</th>\n",
       "      <td>n95303</td>\n",
       "      <td>n460060</td>\n",
       "      <td>{'label': 'PARTICIPATED', 'roles': '[\"tenderer...</td>\n",
       "    </tr>\n",
       "    <tr>\n",
       "      <th>999146</th>\n",
       "      <td>n95304</td>\n",
       "      <td>n460099</td>\n",
       "      <td>{'label': 'PARTICIPATED', 'roles': '[\"tenderer...</td>\n",
       "    </tr>\n",
       "    <tr>\n",
       "      <th>999147</th>\n",
       "      <td>n95304</td>\n",
       "      <td>n460136</td>\n",
       "      <td>{'label': 'PARTICIPATED', 'roles': '[\"tenderer...</td>\n",
       "    </tr>\n",
       "    <tr>\n",
       "      <th>999148</th>\n",
       "      <td>n95305</td>\n",
       "      <td>n460141</td>\n",
       "      <td>{'label': 'PARTICIPATED', 'roles': '[\"tenderer...</td>\n",
       "    </tr>\n",
       "    <tr>\n",
       "      <th>999149</th>\n",
       "      <td>n95306</td>\n",
       "      <td>n460150</td>\n",
       "      <td>{'label': 'PARTICIPATED', 'roles': '[\"tenderer...</td>\n",
       "    </tr>\n",
       "  </tbody>\n",
       "</table>\n",
       "<p>999150 rows × 3 columns</p>\n",
       "</div>"
      ],
      "text/plain": [
       "        source   target                                              attrs\n",
       "0           n0   n95307          {'label': 'BOUGHT', 'roles': '[\"buyer\"]'}\n",
       "1           n0   n95453          {'label': 'BOUGHT', 'roles': '[\"buyer\"]'}\n",
       "2           n0   n95460          {'label': 'BOUGHT', 'roles': '[\"buyer\"]'}\n",
       "3           n0   n95461          {'label': 'BOUGHT', 'roles': '[\"buyer\"]'}\n",
       "4           n0   n95462          {'label': 'BOUGHT', 'roles': '[\"buyer\"]'}\n",
       "...        ...      ...                                                ...\n",
       "999145  n95303  n460060  {'label': 'PARTICIPATED', 'roles': '[\"tenderer...\n",
       "999146  n95304  n460099  {'label': 'PARTICIPATED', 'roles': '[\"tenderer...\n",
       "999147  n95304  n460136  {'label': 'PARTICIPATED', 'roles': '[\"tenderer...\n",
       "999148  n95305  n460141  {'label': 'PARTICIPATED', 'roles': '[\"tenderer...\n",
       "999149  n95306  n460150  {'label': 'PARTICIPATED', 'roles': '[\"tenderer...\n",
       "\n",
       "[999150 rows x 3 columns]"
      ]
     },
     "execution_count": 79,
     "metadata": {},
     "output_type": "execute_result"
    }
   ],
   "source": [
    "df_edges"
   ]
  },
  {
   "cell_type": "code",
   "execution_count": 80,
   "metadata": {},
   "outputs": [
    {
     "data": {
      "text/plain": [
       "{'label', 'roles'}"
      ]
     },
     "execution_count": 80,
     "metadata": {},
     "output_type": "execute_result"
    }
   ],
   "source": [
    "key_edges"
   ]
  },
  {
   "cell_type": "code",
   "execution_count": 81,
   "metadata": {},
   "outputs": [
    {
     "name": "stdout",
     "output_type": "stream",
     "text": [
      "Los atributos disponibles son:\n",
      " {'label', 'roles'}\n"
     ]
    }
   ],
   "source": [
    "print(f\"Los atributos disponibles son:\\n {key_edges}\")"
   ]
  },
  {
   "cell_type": "code",
   "execution_count": 82,
   "metadata": {},
   "outputs": [],
   "source": [
    "# Crear una columna por atributo disponible y\n",
    "# al final borrar la columna de atributos\n",
    "for attr in key_edges:\n",
    "    df_edges[attr] = df_edges[\"attrs\"].apply(get_attr, attr=attr)\n",
    "\n",
    "df_edges = df_edges.drop(\"attrs\", axis=1)"
   ]
  },
  {
   "cell_type": "markdown",
   "metadata": {},
   "source": [
    "### Transformaciones\n",
    "\n",
    "Agregamos variable con el número de posibles roles "
   ]
  },
  {
   "cell_type": "code",
   "execution_count": 87,
   "metadata": {},
   "outputs": [],
   "source": [
    "df_edges[\"nroles\"] = df_edges[\"roles\"].apply(n_list)"
   ]
  },
  {
   "cell_type": "code",
   "execution_count": 90,
   "metadata": {},
   "outputs": [
    {
     "data": {
      "text/plain": [
       "array(['[\"buyer\"]', '[\"tenderer\"]', '[\"tenderer\",\"supplier\"]'],\n",
       "      dtype=object)"
      ]
     },
     "execution_count": 90,
     "metadata": {},
     "output_type": "execute_result"
    }
   ],
   "source": [
    "df_edges.roles.unique()"
   ]
  },
  {
   "cell_type": "markdown",
   "metadata": {},
   "source": [
    "### Write out"
   ]
  },
  {
   "cell_type": "code",
   "execution_count": 92,
   "metadata": {},
   "outputs": [],
   "source": [
    "# Guardar la tabla\n",
    "df_edges.to_csv(edges_out, index=False)"
   ]
  }
 ],
 "metadata": {
  "@webio": {
   "lastCommId": null,
   "lastKernelId": null
  },
  "kernelspec": {
   "display_name": "Python 3",
   "language": "python",
   "name": "python3"
  },
  "language_info": {
   "codemirror_mode": {
    "name": "ipython",
    "version": 3
   },
   "file_extension": ".py",
   "mimetype": "text/x-python",
   "name": "python",
   "nbconvert_exporter": "python",
   "pygments_lexer": "ipython3",
   "version": "3.6.8"
  }
 },
 "nbformat": 4,
 "nbformat_minor": 2
}
